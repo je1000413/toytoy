{
  "nbformat": 4,
  "nbformat_minor": 0,
  "metadata": {
    "colab": {
      "provenance": [],
      "mount_file_id": "1gfz_4syw1pnE3Kii-EobUd3TfrDphdsd",
      "authorship_tag": "ABX9TyPpCUtNUizUEsPgY6GPYNZV",
      "include_colab_link": true
    },
    "kernelspec": {
      "name": "python3",
      "display_name": "Python 3"
    },
    "language_info": {
      "name": "python"
    }
  },
  "cells": [
    {
      "cell_type": "markdown",
      "metadata": {
        "id": "view-in-github",
        "colab_type": "text"
      },
      "source": [
        "<a href=\"https://colab.research.google.com/github/je1000413/toytoy/blob/main/toytoy.ipynb\" target=\"_parent\"><img src=\"https://colab.research.google.com/assets/colab-badge.svg\" alt=\"Open In Colab\"/></a>"
      ]
    },
    {
      "cell_type": "code",
      "execution_count": null,
      "metadata": {
        "colab": {
          "base_uri": "https://localhost:8080/"
        },
        "id": "rECMO2gPrtms",
        "outputId": "b1ff7a3d-2e1c-43c0-c80a-3cd8a017800b"
      },
      "outputs": [
        {
          "output_type": "stream",
          "name": "stdout",
          "text": [
            "hello junseo\n"
          ]
        }
      ],
      "source": [
        "print(\"hello junseo\")"
      ]
    }
  ]
}